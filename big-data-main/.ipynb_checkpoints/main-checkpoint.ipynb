{
 "cells": [
  {
   "cell_type": "code",
   "execution_count": 13,
   "id": "68ab6d45",
   "metadata": {},
   "outputs": [
    {
     "name": "stdout",
     "output_type": "stream",
     "text": [
      "Requirement already satisfied: pyspark in /Users/esmanur/miniconda3/lib/python3.10/site-packages (3.4.0)\r\n",
      "Requirement already satisfied: py4j==0.10.9.7 in /Users/esmanur/miniconda3/lib/python3.10/site-packages (from pyspark) (0.10.9.7)\r\n"
     ]
    }
   ],
   "source": [
    "!pip install pyspark"
   ]
  },
  {
   "cell_type": "code",
   "execution_count": 122,
   "id": "3fe3b39a",
   "metadata": {},
   "outputs": [],
   "source": [
    "import pandas as pd\n",
    "from pyspark.sql import SparkSession\n",
    "from pyspark.sql.functions import col, regexp_replace\n",
    "from pyspark import SparkConf,SparkContext\n",
    "from pyspark.sql.functions import split\n",
    "from pyspark.sql.functions import split, concat_ws"
   ]
  },
  {
   "cell_type": "code",
   "execution_count": 97,
   "id": "b7900d47",
   "metadata": {},
   "outputs": [],
   "source": [
    "conf = SparkConf().setAppName(\"191805056_EsmanurDeli\")\n",
    "spark = SparkSession.builder.config(conf=conf).getOrCreate()"
   ]
  },
  {
   "cell_type": "code",
   "execution_count": 98,
   "id": "437fb1d0",
   "metadata": {},
   "outputs": [],
   "source": [
    "dataset = spark.read.csv(\"dataset15k.csv\", header=True, inferSchema=True)"
   ]
  },
  {
   "cell_type": "code",
   "execution_count": 101,
   "id": "3e12e7d9",
   "metadata": {},
   "outputs": [
    {
     "data": {
      "text/plain": [
       "Row(Unnamed: 0='0', user_id='2', location='stockton, california, usa', age='18.0', isbn='0195153448', rating='0', book_title='Classical Mythology', book_author='Mark P. O. Morford', year_of_publication='2002.0', publisher='Oxford University Press', img_s='http://images.amazon.com/images/P/0195153448.01.THUMBZZZ.jpg', img_m='http://images.amazon.com/images/P/0195153448.01.MZZZZZZZ.jpg', img_l='http://images.amazon.com/images/P/0195153448.01.LZZZZZZZ.jpg', Summary='Provides an introduction to classical myths placing the addressed', Language=None, Category=None, city=None, state=None, country=None)"
      ]
     },
     "execution_count": 101,
     "metadata": {},
     "output_type": "execute_result"
    }
   ],
   "source": [
    "dataset.first()"
   ]
  },
  {
   "cell_type": "markdown",
   "id": "07f77d35",
   "metadata": {},
   "source": [
    "ISBN numaralarını int türüne çeviriyoruz çevrilmeyenleri siliyoruz."
   ]
  },
  {
   "cell_type": "code",
   "execution_count": 119,
   "id": "64692916",
   "metadata": {},
   "outputs": [],
   "source": [
    "dataset = dataset.filter(col(\"isbn\").rlike(\"^[0-9]+$\"))\n",
    "\n",
    "# İlgili sütunu int tipine dönüştürün\n",
    "dataset = dataset.withColumn(\"isbn\", dataset[\"isbn\"].cast(\"int\"))\n",
    "dataset = dataset.withColumn(\"user_id\", dataset[\"user_id\"].cast(\"int\"))\n",
    "dataset = dataset.withColumn(\"rating\", dataset[\"rating\"].cast(\"int\"))"
   ]
  },
  {
   "cell_type": "code",
   "execution_count": 120,
   "id": "c4c05609",
   "metadata": {},
   "outputs": [
    {
     "data": {
      "text/plain": [
       "14126"
      ]
     },
     "execution_count": 120,
     "metadata": {},
     "output_type": "execute_result"
    }
   ],
   "source": [
    "dataset.count()"
   ]
  },
  {
   "cell_type": "markdown",
   "id": "42fb9cb6",
   "metadata": {},
   "source": [
    "Transform the data by splitting each record into fields."
   ]
  },
  {
   "cell_type": "code",
   "execution_count": 123,
   "id": "99868238",
   "metadata": {},
   "outputs": [],
   "source": [
    "for col_name in dataset.columns:\n",
    "    dataset = dataset.withColumn(col_name + \"_split\", split(concat_ws(\"\", dataset[col_name]), \",\"))"
   ]
  },
  {
   "cell_type": "code",
   "execution_count": 124,
   "id": "1fc86267",
   "metadata": {},
   "outputs": [
    {
     "data": {
      "text/plain": [
       "DataFrame[Unnamed: 0: string, user_id: int, location: string, age: string, isbn: int, rating: int, book_title: string, book_author: string, year_of_publication: string, publisher: string, img_s: string, img_m: string, img_l: string, Summary: string, Language: string, Category: string, city: string, state: string, country: string, Unnamed: 0_split: array<string>, user_id_split: array<string>, location_split: array<string>, age_split: array<string>, isbn_split: array<string>, rating_split: array<string>, book_title_split: array<string>, book_author_split: array<string>, year_of_publication_split: array<string>, publisher_split: array<string>, img_s_split: array<string>, img_m_split: array<string>, img_l_split: array<string>, Summary_split: array<string>, Language_split: array<string>, Category_split: array<string>, city_split: array<string>, state_split: array<string>, country_split: array<string>, Unnamed: 0_split_split: array<string>, user_id_split_split: array<string>, location_split_split: array<string>, age_split_split: array<string>, isbn_split_split: array<string>, rating_split_split: array<string>, book_title_split_split: array<string>, book_author_split_split: array<string>, year_of_publication_split_split: array<string>, publisher_split_split: array<string>, img_s_split_split: array<string>, img_m_split_split: array<string>, img_l_split_split: array<string>, Summary_split_split: array<string>, Language_split_split: array<string>, Category_split_split: array<string>, city_split_split: array<string>, state_split_split: array<string>, country_split_split: array<string>]"
      ]
     },
     "execution_count": 124,
     "metadata": {},
     "output_type": "execute_result"
    }
   ],
   "source": [
    "dataset"
   ]
  },
  {
   "cell_type": "markdown",
   "id": "bb90ec46",
   "metadata": {},
   "source": [
    "Yaşların dağılımına bakacağız"
   ]
  },
  {
   "cell_type": "code",
   "execution_count": 133,
   "id": "e75bd552",
   "metadata": {},
   "outputs": [
    {
     "ename": "KeyError",
     "evalue": "'avg(income)'",
     "output_type": "error",
     "traceback": [
      "\u001b[0;31m---------------------------------------------------------------------------\u001b[0m",
      "\u001b[0;31mKeyError\u001b[0m                                  Traceback (most recent call last)",
      "File \u001b[0;32m/Library/Frameworks/Python.framework/Versions/3.10/lib/python3.10/site-packages/pandas/core/indexes/base.py:3621\u001b[0m, in \u001b[0;36mIndex.get_loc\u001b[0;34m(self, key, method, tolerance)\u001b[0m\n\u001b[1;32m   3620\u001b[0m \u001b[38;5;28;01mtry\u001b[39;00m:\n\u001b[0;32m-> 3621\u001b[0m     \u001b[38;5;28;01mreturn\u001b[39;00m \u001b[38;5;28;43mself\u001b[39;49m\u001b[38;5;241;43m.\u001b[39;49m\u001b[43m_engine\u001b[49m\u001b[38;5;241;43m.\u001b[39;49m\u001b[43mget_loc\u001b[49m\u001b[43m(\u001b[49m\u001b[43mcasted_key\u001b[49m\u001b[43m)\u001b[49m\n\u001b[1;32m   3622\u001b[0m \u001b[38;5;28;01mexcept\u001b[39;00m \u001b[38;5;167;01mKeyError\u001b[39;00m \u001b[38;5;28;01mas\u001b[39;00m err:\n",
      "File \u001b[0;32m/Library/Frameworks/Python.framework/Versions/3.10/lib/python3.10/site-packages/pandas/_libs/index.pyx:136\u001b[0m, in \u001b[0;36mpandas._libs.index.IndexEngine.get_loc\u001b[0;34m()\u001b[0m\n",
      "File \u001b[0;32m/Library/Frameworks/Python.framework/Versions/3.10/lib/python3.10/site-packages/pandas/_libs/index.pyx:163\u001b[0m, in \u001b[0;36mpandas._libs.index.IndexEngine.get_loc\u001b[0;34m()\u001b[0m\n",
      "File \u001b[0;32mpandas/_libs/hashtable_class_helper.pxi:5198\u001b[0m, in \u001b[0;36mpandas._libs.hashtable.PyObjectHashTable.get_item\u001b[0;34m()\u001b[0m\n",
      "File \u001b[0;32mpandas/_libs/hashtable_class_helper.pxi:5206\u001b[0m, in \u001b[0;36mpandas._libs.hashtable.PyObjectHashTable.get_item\u001b[0;34m()\u001b[0m\n",
      "\u001b[0;31mKeyError\u001b[0m: 'avg(income)'",
      "\nThe above exception was the direct cause of the following exception:\n",
      "\u001b[0;31mKeyError\u001b[0m                                  Traceback (most recent call last)",
      "Cell \u001b[0;32mIn [133], line 6\u001b[0m\n\u001b[1;32m      3\u001b[0m age_income \u001b[38;5;241m=\u001b[39m dataset\u001b[38;5;241m.\u001b[39mgroupBy(\u001b[38;5;124m\"\u001b[39m\u001b[38;5;124mage\u001b[39m\u001b[38;5;124m\"\u001b[39m)\u001b[38;5;241m.\u001b[39mavg(\u001b[38;5;124m\"\u001b[39m\u001b[38;5;124misbn\u001b[39m\u001b[38;5;124m\"\u001b[39m)\u001b[38;5;241m.\u001b[39morderBy(\u001b[38;5;124m\"\u001b[39m\u001b[38;5;124mage\u001b[39m\u001b[38;5;124m\"\u001b[39m)\u001b[38;5;241m.\u001b[39mtoPandas()\n\u001b[1;32m      5\u001b[0m \u001b[38;5;66;03m# Çubuk grafik oluşturma\u001b[39;00m\n\u001b[0;32m----> 6\u001b[0m plt\u001b[38;5;241m.\u001b[39mbar(age_income[\u001b[38;5;124m\"\u001b[39m\u001b[38;5;124mage\u001b[39m\u001b[38;5;124m\"\u001b[39m], \u001b[43mage_income\u001b[49m\u001b[43m[\u001b[49m\u001b[38;5;124;43m\"\u001b[39;49m\u001b[38;5;124;43mavg(income)\u001b[39;49m\u001b[38;5;124;43m\"\u001b[39;49m\u001b[43m]\u001b[49m, edgecolor\u001b[38;5;241m=\u001b[39m\u001b[38;5;124m\"\u001b[39m\u001b[38;5;124mblack\u001b[39m\u001b[38;5;124m\"\u001b[39m)\n\u001b[1;32m      8\u001b[0m \u001b[38;5;66;03m# Grafiği görüntüleme\u001b[39;00m\n\u001b[1;32m      9\u001b[0m plt\u001b[38;5;241m.\u001b[39mxlabel(\u001b[38;5;124m\"\u001b[39m\u001b[38;5;124mAge\u001b[39m\u001b[38;5;124m\"\u001b[39m)\n",
      "File \u001b[0;32m/Library/Frameworks/Python.framework/Versions/3.10/lib/python3.10/site-packages/pandas/core/frame.py:3505\u001b[0m, in \u001b[0;36mDataFrame.__getitem__\u001b[0;34m(self, key)\u001b[0m\n\u001b[1;32m   3503\u001b[0m \u001b[38;5;28;01mif\u001b[39;00m \u001b[38;5;28mself\u001b[39m\u001b[38;5;241m.\u001b[39mcolumns\u001b[38;5;241m.\u001b[39mnlevels \u001b[38;5;241m>\u001b[39m \u001b[38;5;241m1\u001b[39m:\n\u001b[1;32m   3504\u001b[0m     \u001b[38;5;28;01mreturn\u001b[39;00m \u001b[38;5;28mself\u001b[39m\u001b[38;5;241m.\u001b[39m_getitem_multilevel(key)\n\u001b[0;32m-> 3505\u001b[0m indexer \u001b[38;5;241m=\u001b[39m \u001b[38;5;28;43mself\u001b[39;49m\u001b[38;5;241;43m.\u001b[39;49m\u001b[43mcolumns\u001b[49m\u001b[38;5;241;43m.\u001b[39;49m\u001b[43mget_loc\u001b[49m\u001b[43m(\u001b[49m\u001b[43mkey\u001b[49m\u001b[43m)\u001b[49m\n\u001b[1;32m   3506\u001b[0m \u001b[38;5;28;01mif\u001b[39;00m is_integer(indexer):\n\u001b[1;32m   3507\u001b[0m     indexer \u001b[38;5;241m=\u001b[39m [indexer]\n",
      "File \u001b[0;32m/Library/Frameworks/Python.framework/Versions/3.10/lib/python3.10/site-packages/pandas/core/indexes/base.py:3623\u001b[0m, in \u001b[0;36mIndex.get_loc\u001b[0;34m(self, key, method, tolerance)\u001b[0m\n\u001b[1;32m   3621\u001b[0m     \u001b[38;5;28;01mreturn\u001b[39;00m \u001b[38;5;28mself\u001b[39m\u001b[38;5;241m.\u001b[39m_engine\u001b[38;5;241m.\u001b[39mget_loc(casted_key)\n\u001b[1;32m   3622\u001b[0m \u001b[38;5;28;01mexcept\u001b[39;00m \u001b[38;5;167;01mKeyError\u001b[39;00m \u001b[38;5;28;01mas\u001b[39;00m err:\n\u001b[0;32m-> 3623\u001b[0m     \u001b[38;5;28;01mraise\u001b[39;00m \u001b[38;5;167;01mKeyError\u001b[39;00m(key) \u001b[38;5;28;01mfrom\u001b[39;00m \u001b[38;5;21;01merr\u001b[39;00m\n\u001b[1;32m   3624\u001b[0m \u001b[38;5;28;01mexcept\u001b[39;00m \u001b[38;5;167;01mTypeError\u001b[39;00m:\n\u001b[1;32m   3625\u001b[0m     \u001b[38;5;66;03m# If we have a listlike key, _check_indexing_error will raise\u001b[39;00m\n\u001b[1;32m   3626\u001b[0m     \u001b[38;5;66;03m#  InvalidIndexError. Otherwise we fall through and re-raise\u001b[39;00m\n\u001b[1;32m   3627\u001b[0m     \u001b[38;5;66;03m#  the TypeError.\u001b[39;00m\n\u001b[1;32m   3628\u001b[0m     \u001b[38;5;28mself\u001b[39m\u001b[38;5;241m.\u001b[39m_check_indexing_error(key)\n",
      "\u001b[0;31mKeyError\u001b[0m: 'avg(income)'"
     ]
    }
   ],
   "source": [
    "import matplotlib.pyplot as plt\n",
    "# Yaşa göre gruplanmış ortalama geliri alın\n",
    "age_income = dataset.groupBy(\"age\").avg(\"isbn\").orderBy(\"age\").toPandas()\n",
    "\n",
    "# Çubuk grafik oluşturma\n",
    "plt.bar(age_income[\"age\"], age_income[\"avg(income)\"], edgecolor=\"black\")\n",
    "\n",
    "# Grafiği görüntüleme\n",
    "plt.xlabel(\"Age\")\n",
    "plt.ylabel(\"Average Income\")\n",
    "plt.title(\"Average Income by Age\")\n",
    "plt.show()"
   ]
  },
  {
   "cell_type": "code",
   "execution_count": 41,
   "id": "3d5c4a87",
   "metadata": {},
   "outputs": [
    {
     "ename": "TypeError",
     "evalue": "'Column' object is not callable",
     "output_type": "error",
     "traceback": [
      "\u001b[0;31m---------------------------------------------------------------------------\u001b[0m",
      "\u001b[0;31mTypeError\u001b[0m                                 Traceback (most recent call last)",
      "Cell \u001b[0;32mIn [41], line 1\u001b[0m\n\u001b[0;32m----> 1\u001b[0m values \u001b[38;5;241m=\u001b[39m \u001b[38;5;28mlist\u001b[39m(\u001b[43mdataset\u001b[49m\u001b[43m[\u001b[49m\u001b[38;5;124;43m\"\u001b[39;49m\u001b[38;5;124;43mage\u001b[39;49m\u001b[38;5;124;43m\"\u001b[39;49m\u001b[43m]\u001b[49m\u001b[38;5;241;43m.\u001b[39;49m\u001b[43mvalues\u001b[49m\u001b[43m(\u001b[49m\u001b[43m)\u001b[49m)\n\u001b[1;32m      2\u001b[0m bins \u001b[38;5;241m=\u001b[39m \u001b[38;5;28mlist\u001b[39m(dataset[\u001b[38;5;124m\"\u001b[39m\u001b[38;5;124mage\u001b[39m\u001b[38;5;124m\"\u001b[39m]\u001b[38;5;241m.\u001b[39mkeys())\n",
      "\u001b[0;31mTypeError\u001b[0m: 'Column' object is not callable"
     ]
    }
   ],
   "source": [
    "values = list(dataset[\"age\"].values())\n",
    "bins = list(dataset[\"age\"].keys())"
   ]
  }
 ],
 "metadata": {
  "kernelspec": {
   "display_name": "Python 3 (ipykernel)",
   "language": "python",
   "name": "python3"
  },
  "language_info": {
   "codemirror_mode": {
    "name": "ipython",
    "version": 3
   },
   "file_extension": ".py",
   "mimetype": "text/x-python",
   "name": "python",
   "nbconvert_exporter": "python",
   "pygments_lexer": "ipython3",
   "version": "3.10.6"
  }
 },
 "nbformat": 4,
 "nbformat_minor": 5
}
