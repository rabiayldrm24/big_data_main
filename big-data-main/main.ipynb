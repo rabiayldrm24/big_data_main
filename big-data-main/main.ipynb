{
 "cells": [
  {
   "cell_type": "code",
   "execution_count": 1,
   "id": "68ab6d45",
   "metadata": {},
   "outputs": [
    {
     "name": "stdout",
     "output_type": "stream",
     "text": [
      "Requirement already satisfied: pyspark in /Users/esmanur/miniconda3/lib/python3.10/site-packages (3.4.0)\n",
      "Requirement already satisfied: py4j==0.10.9.7 in /Users/esmanur/miniconda3/lib/python3.10/site-packages (from pyspark) (0.10.9.7)\n"
     ]
    }
   ],
   "source": [
    "!pip install pyspark"
   ]
  },
  {
   "cell_type": "code",
   "execution_count": 2,
   "id": "3fe3b39a",
   "metadata": {},
   "outputs": [],
   "source": [
    "import pandas as pd\n",
    "from pyspark.sql import SparkSession\n",
    "from pyspark.sql.functions import col, regexp_replace\n",
    "from pyspark import SparkConf,SparkContext\n",
    "from pyspark.sql.functions import split, concat_ws"
   ]
  },
  {
   "cell_type": "code",
   "execution_count": 81,
   "id": "08c0a515",
   "metadata": {},
   "outputs": [],
   "source": [
    "data = pd.read_csv(\"dataset15k.csv\")"
   ]
  },
  {
   "cell_type": "code",
   "execution_count": 82,
   "id": "32d3be54",
   "metadata": {},
   "outputs": [
    {
     "data": {
      "text/html": [
       "<div>\n",
       "<style scoped>\n",
       "    .dataframe tbody tr th:only-of-type {\n",
       "        vertical-align: middle;\n",
       "    }\n",
       "\n",
       "    .dataframe tbody tr th {\n",
       "        vertical-align: top;\n",
       "    }\n",
       "\n",
       "    .dataframe thead th {\n",
       "        text-align: right;\n",
       "    }\n",
       "</style>\n",
       "<table border=\"1\" class=\"dataframe\">\n",
       "  <thead>\n",
       "    <tr style=\"text-align: right;\">\n",
       "      <th></th>\n",
       "      <th>Unnamed: 0</th>\n",
       "      <th>user_id</th>\n",
       "      <th>location</th>\n",
       "      <th>age</th>\n",
       "      <th>isbn</th>\n",
       "      <th>rating</th>\n",
       "      <th>book_title</th>\n",
       "      <th>book_author</th>\n",
       "      <th>year_of_publication</th>\n",
       "      <th>publisher</th>\n",
       "      <th>img_s</th>\n",
       "      <th>img_m</th>\n",
       "      <th>img_l</th>\n",
       "      <th>Summary</th>\n",
       "      <th>Language</th>\n",
       "      <th>Category</th>\n",
       "      <th>city</th>\n",
       "      <th>state</th>\n",
       "      <th>country</th>\n",
       "    </tr>\n",
       "  </thead>\n",
       "  <tbody>\n",
       "    <tr>\n",
       "      <th>0</th>\n",
       "      <td>0</td>\n",
       "      <td>2</td>\n",
       "      <td>stockton, california, usa</td>\n",
       "      <td>18.0000</td>\n",
       "      <td>0195153448</td>\n",
       "      <td>0</td>\n",
       "      <td>Classical Mythology</td>\n",
       "      <td>Mark P. O. Morford</td>\n",
       "      <td>2002.0</td>\n",
       "      <td>Oxford University Press</td>\n",
       "      <td>http://images.amazon.com/images/P/0195153448.0...</td>\n",
       "      <td>http://images.amazon.com/images/P/0195153448.0...</td>\n",
       "      <td>http://images.amazon.com/images/P/0195153448.0...</td>\n",
       "      <td>Provides an introduction to classical myths pl...</td>\n",
       "      <td>en</td>\n",
       "      <td>['Social Science']</td>\n",
       "      <td>stockton</td>\n",
       "      <td>california</td>\n",
       "      <td>usa</td>\n",
       "    </tr>\n",
       "    <tr>\n",
       "      <th>1</th>\n",
       "      <td>1</td>\n",
       "      <td>8</td>\n",
       "      <td>timmins, ontario, canada</td>\n",
       "      <td>34.7439</td>\n",
       "      <td>0002005018</td>\n",
       "      <td>5</td>\n",
       "      <td>Clara Callan</td>\n",
       "      <td>Richard Bruce Wright</td>\n",
       "      <td>2001.0</td>\n",
       "      <td>HarperFlamingo Canada</td>\n",
       "      <td>http://images.amazon.com/images/P/0002005018.0...</td>\n",
       "      <td>http://images.amazon.com/images/P/0002005018.0...</td>\n",
       "      <td>http://images.amazon.com/images/P/0002005018.0...</td>\n",
       "      <td>In a small town in Canada, Clara Callan reluct...</td>\n",
       "      <td>en</td>\n",
       "      <td>['Actresses']</td>\n",
       "      <td>timmins</td>\n",
       "      <td>ontario</td>\n",
       "      <td>canada</td>\n",
       "    </tr>\n",
       "    <tr>\n",
       "      <th>2</th>\n",
       "      <td>2</td>\n",
       "      <td>11400</td>\n",
       "      <td>ottawa, ontario, canada</td>\n",
       "      <td>49.0000</td>\n",
       "      <td>0002005018</td>\n",
       "      <td>0</td>\n",
       "      <td>Clara Callan</td>\n",
       "      <td>Richard Bruce Wright</td>\n",
       "      <td>2001.0</td>\n",
       "      <td>HarperFlamingo Canada</td>\n",
       "      <td>http://images.amazon.com/images/P/0002005018.0...</td>\n",
       "      <td>http://images.amazon.com/images/P/0002005018.0...</td>\n",
       "      <td>http://images.amazon.com/images/P/0002005018.0...</td>\n",
       "      <td>In a small town in Canada, Clara Callan reluct...</td>\n",
       "      <td>en</td>\n",
       "      <td>['Actresses']</td>\n",
       "      <td>ottawa</td>\n",
       "      <td>ontario</td>\n",
       "      <td>canada</td>\n",
       "    </tr>\n",
       "    <tr>\n",
       "      <th>3</th>\n",
       "      <td>3</td>\n",
       "      <td>11676</td>\n",
       "      <td>n/a, n/a, n/a</td>\n",
       "      <td>34.7439</td>\n",
       "      <td>0002005018</td>\n",
       "      <td>8</td>\n",
       "      <td>Clara Callan</td>\n",
       "      <td>Richard Bruce Wright</td>\n",
       "      <td>2001.0</td>\n",
       "      <td>HarperFlamingo Canada</td>\n",
       "      <td>http://images.amazon.com/images/P/0002005018.0...</td>\n",
       "      <td>http://images.amazon.com/images/P/0002005018.0...</td>\n",
       "      <td>http://images.amazon.com/images/P/0002005018.0...</td>\n",
       "      <td>In a small town in Canada, Clara Callan reluct...</td>\n",
       "      <td>en</td>\n",
       "      <td>['Actresses']</td>\n",
       "      <td>NaN</td>\n",
       "      <td>NaN</td>\n",
       "      <td>NaN</td>\n",
       "    </tr>\n",
       "    <tr>\n",
       "      <th>4</th>\n",
       "      <td>4</td>\n",
       "      <td>41385</td>\n",
       "      <td>sudbury, ontario, canada</td>\n",
       "      <td>34.7439</td>\n",
       "      <td>0002005018</td>\n",
       "      <td>0</td>\n",
       "      <td>Clara Callan</td>\n",
       "      <td>Richard Bruce Wright</td>\n",
       "      <td>2001.0</td>\n",
       "      <td>HarperFlamingo Canada</td>\n",
       "      <td>http://images.amazon.com/images/P/0002005018.0...</td>\n",
       "      <td>http://images.amazon.com/images/P/0002005018.0...</td>\n",
       "      <td>http://images.amazon.com/images/P/0002005018.0...</td>\n",
       "      <td>In a small town in Canada, Clara Callan reluct...</td>\n",
       "      <td>en</td>\n",
       "      <td>['Actresses']</td>\n",
       "      <td>sudbury</td>\n",
       "      <td>ontario</td>\n",
       "      <td>canada</td>\n",
       "    </tr>\n",
       "  </tbody>\n",
       "</table>\n",
       "</div>"
      ],
      "text/plain": [
       "   Unnamed: 0  user_id                   location      age        isbn  \\\n",
       "0           0        2  stockton, california, usa  18.0000  0195153448   \n",
       "1           1        8   timmins, ontario, canada  34.7439  0002005018   \n",
       "2           2    11400    ottawa, ontario, canada  49.0000  0002005018   \n",
       "3           3    11676              n/a, n/a, n/a  34.7439  0002005018   \n",
       "4           4    41385   sudbury, ontario, canada  34.7439  0002005018   \n",
       "\n",
       "   rating           book_title           book_author  year_of_publication  \\\n",
       "0       0  Classical Mythology    Mark P. O. Morford               2002.0   \n",
       "1       5         Clara Callan  Richard Bruce Wright               2001.0   \n",
       "2       0         Clara Callan  Richard Bruce Wright               2001.0   \n",
       "3       8         Clara Callan  Richard Bruce Wright               2001.0   \n",
       "4       0         Clara Callan  Richard Bruce Wright               2001.0   \n",
       "\n",
       "                 publisher                                              img_s  \\\n",
       "0  Oxford University Press  http://images.amazon.com/images/P/0195153448.0...   \n",
       "1    HarperFlamingo Canada  http://images.amazon.com/images/P/0002005018.0...   \n",
       "2    HarperFlamingo Canada  http://images.amazon.com/images/P/0002005018.0...   \n",
       "3    HarperFlamingo Canada  http://images.amazon.com/images/P/0002005018.0...   \n",
       "4    HarperFlamingo Canada  http://images.amazon.com/images/P/0002005018.0...   \n",
       "\n",
       "                                               img_m  \\\n",
       "0  http://images.amazon.com/images/P/0195153448.0...   \n",
       "1  http://images.amazon.com/images/P/0002005018.0...   \n",
       "2  http://images.amazon.com/images/P/0002005018.0...   \n",
       "3  http://images.amazon.com/images/P/0002005018.0...   \n",
       "4  http://images.amazon.com/images/P/0002005018.0...   \n",
       "\n",
       "                                               img_l  \\\n",
       "0  http://images.amazon.com/images/P/0195153448.0...   \n",
       "1  http://images.amazon.com/images/P/0002005018.0...   \n",
       "2  http://images.amazon.com/images/P/0002005018.0...   \n",
       "3  http://images.amazon.com/images/P/0002005018.0...   \n",
       "4  http://images.amazon.com/images/P/0002005018.0...   \n",
       "\n",
       "                                             Summary Language  \\\n",
       "0  Provides an introduction to classical myths pl...       en   \n",
       "1  In a small town in Canada, Clara Callan reluct...       en   \n",
       "2  In a small town in Canada, Clara Callan reluct...       en   \n",
       "3  In a small town in Canada, Clara Callan reluct...       en   \n",
       "4  In a small town in Canada, Clara Callan reluct...       en   \n",
       "\n",
       "             Category      city       state country  \n",
       "0  ['Social Science']  stockton  california     usa  \n",
       "1       ['Actresses']   timmins     ontario  canada  \n",
       "2       ['Actresses']    ottawa     ontario  canada  \n",
       "3       ['Actresses']       NaN         NaN     NaN  \n",
       "4       ['Actresses']   sudbury     ontario  canada  "
      ]
     },
     "execution_count": 82,
     "metadata": {},
     "output_type": "execute_result"
    }
   ],
   "source": [
    "data.head()"
   ]
  },
  {
   "cell_type": "code",
   "execution_count": 83,
   "id": "970d7d61",
   "metadata": {},
   "outputs": [],
   "source": [
    "data = data.drop(\"Summary\", axis=1)\n",
    "data = data.drop(\"img_m\", axis=1)\n",
    "data = data.drop(\"img_s\", axis=1)\n",
    "data = data.drop(\"img_l\", axis=1)\n",
    "data = data.drop(\"Category\", axis=1)\n",
    "new_df = data.drop(\"location\", axis=1)"
   ]
  },
  {
   "cell_type": "code",
   "execution_count": 84,
   "id": "b23c1149",
   "metadata": {},
   "outputs": [],
   "source": [
    "new_df.to_csv(\"newdataset.csv\", index=False)"
   ]
  },
  {
   "cell_type": "code",
   "execution_count": 3,
   "id": "e0d4e6f3",
   "metadata": {},
   "outputs": [
    {
     "name": "stderr",
     "output_type": "stream",
     "text": [
      "23/05/22 21:42:01 WARN Utils: Your hostname, Esmanur-MacBook-Air.local resolves to a loopback address: 127.0.0.1; using 172.16.159.223 instead (on interface en0)\n",
      "23/05/22 21:42:01 WARN Utils: Set SPARK_LOCAL_IP if you need to bind to another address\n",
      "Setting default log level to \"WARN\".\n",
      "To adjust logging level use sc.setLogLevel(newLevel). For SparkR, use setLogLevel(newLevel).\n",
      "23/05/22 21:42:01 WARN NativeCodeLoader: Unable to load native-hadoop library for your platform... using builtin-java classes where applicable\n"
     ]
    }
   ],
   "source": [
    "conf = SparkConf().setAppName(\"191805056_EsmanurDeli\")\n",
    "sc = SparkContext.getOrCreate(conf=conf)"
   ]
  },
  {
   "cell_type": "code",
   "execution_count": 87,
   "id": "d0dbabd1",
   "metadata": {},
   "outputs": [],
   "source": [
    "dataset = sc.textFile(\"newdataset.csv\")"
   ]
  },
  {
   "cell_type": "code",
   "execution_count": 88,
   "id": "fe5386ff",
   "metadata": {},
   "outputs": [],
   "source": [
    "header = dataset.first()"
   ]
  },
  {
   "cell_type": "code",
   "execution_count": 89,
   "id": "bc3cf617",
   "metadata": {},
   "outputs": [],
   "source": [
    "data = dataset.filter(lambda line: line != header)"
   ]
  },
  {
   "cell_type": "code",
   "execution_count": 90,
   "id": "83f83532",
   "metadata": {},
   "outputs": [
    {
     "name": "stdout",
     "output_type": "stream",
     "text": [
      "Number of Books:  15000\n"
     ]
    }
   ],
   "source": [
    "num_books = data.count()\n",
    "print(\"Number of Books: \", num_books)"
   ]
  },
  {
   "cell_type": "code",
   "execution_count": 95,
   "id": "437beaaa",
   "metadata": {},
   "outputs": [],
   "source": [
    "book_fields = data.map(lambda lines: lines.split(\",\"))\n",
    "isbn = book_fields.map(lambda fields:fields[3])"
   ]
  },
  {
   "cell_type": "code",
   "execution_count": 96,
   "id": "e777e94e",
   "metadata": {},
   "outputs": [],
   "source": [
    "isbn_filtered = isbn.map(lambda x: int(x) if x.isdigit() else None).filter(lambda x: x is not None)"
   ]
  },
  {
   "cell_type": "code",
   "execution_count": 97,
   "id": "828e2003",
   "metadata": {},
   "outputs": [
    {
     "data": {
      "text/plain": [
       "[['0',\n",
       "  '2',\n",
       "  '18.0',\n",
       "  '0195153448',\n",
       "  '0',\n",
       "  'Classical Mythology',\n",
       "  'Mark P. O. Morford',\n",
       "  '2002.0',\n",
       "  'Oxford University Press',\n",
       "  'en',\n",
       "  'stockton',\n",
       "  'california',\n",
       "  'usa'],\n",
       " ['1',\n",
       "  '8',\n",
       "  '34.74389988072476',\n",
       "  '0002005018',\n",
       "  '5',\n",
       "  'Clara Callan',\n",
       "  'Richard Bruce Wright',\n",
       "  '2001.0',\n",
       "  'HarperFlamingo Canada',\n",
       "  'en',\n",
       "  'timmins',\n",
       "  'ontario',\n",
       "  'canada'],\n",
       " ['2',\n",
       "  '11400',\n",
       "  '49.0',\n",
       "  '0002005018',\n",
       "  '0',\n",
       "  'Clara Callan',\n",
       "  'Richard Bruce Wright',\n",
       "  '2001.0',\n",
       "  'HarperFlamingo Canada',\n",
       "  'en',\n",
       "  'ottawa',\n",
       "  'ontario',\n",
       "  'canada'],\n",
       " ['3',\n",
       "  '11676',\n",
       "  '34.74389988072476',\n",
       "  '0002005018',\n",
       "  '8',\n",
       "  'Clara Callan',\n",
       "  'Richard Bruce Wright',\n",
       "  '2001.0',\n",
       "  'HarperFlamingo Canada',\n",
       "  'en',\n",
       "  '',\n",
       "  '',\n",
       "  ''],\n",
       " ['4',\n",
       "  '41385',\n",
       "  '34.74389988072476',\n",
       "  '0002005018',\n",
       "  '0',\n",
       "  'Clara Callan',\n",
       "  'Richard Bruce Wright',\n",
       "  '2001.0',\n",
       "  'HarperFlamingo Canada',\n",
       "  'en',\n",
       "  'sudbury',\n",
       "  'ontario',\n",
       "  'canada'],\n",
       " ['5',\n",
       "  '67544',\n",
       "  '30.0',\n",
       "  '0002005018',\n",
       "  '8',\n",
       "  'Clara Callan',\n",
       "  'Richard Bruce Wright',\n",
       "  '2001.0',\n",
       "  'HarperFlamingo Canada',\n",
       "  'en',\n",
       "  'toronto',\n",
       "  'ontario',\n",
       "  'canada'],\n",
       " ['6',\n",
       "  '85526',\n",
       "  '36.0',\n",
       "  '0002005018',\n",
       "  '0',\n",
       "  'Clara Callan',\n",
       "  'Richard Bruce Wright',\n",
       "  '2001.0',\n",
       "  'HarperFlamingo Canada',\n",
       "  'en',\n",
       "  'victoria',\n",
       "  'british columbia',\n",
       "  'canada'],\n",
       " ['7',\n",
       "  '96054',\n",
       "  '29.0',\n",
       "  '0002005018',\n",
       "  '0',\n",
       "  'Clara Callan',\n",
       "  'Richard Bruce Wright',\n",
       "  '2001.0',\n",
       "  'HarperFlamingo Canada',\n",
       "  'en',\n",
       "  'ottawa',\n",
       "  'ontario',\n",
       "  'canada'],\n",
       " ['8',\n",
       "  '116866',\n",
       "  '34.74389988072476',\n",
       "  '0002005018',\n",
       "  '9',\n",
       "  'Clara Callan',\n",
       "  'Richard Bruce Wright',\n",
       "  '2001.0',\n",
       "  'HarperFlamingo Canada',\n",
       "  'en',\n",
       "  'ottawa',\n",
       "  '\"',\n",
       "  '\"',\n",
       "  ''],\n",
       " ['9',\n",
       "  '123629',\n",
       "  '34.74389988072476',\n",
       "  '0002005018',\n",
       "  '9',\n",
       "  'Clara Callan',\n",
       "  'Richard Bruce Wright',\n",
       "  '2001.0',\n",
       "  'HarperFlamingo Canada',\n",
       "  'en',\n",
       "  'kingston',\n",
       "  'ontario',\n",
       "  'canada']]"
      ]
     },
     "execution_count": 97,
     "metadata": {},
     "output_type": "execute_result"
    }
   ],
   "source": [
    "book_fields.take(10)"
   ]
  },
  {
   "cell_type": "code",
   "execution_count": 98,
   "id": "ffb75973",
   "metadata": {
    "scrolled": false
   },
   "outputs": [
    {
     "data": {
      "text/plain": [
       "['0195153448', '0002005018']"
      ]
     },
     "execution_count": 98,
     "metadata": {},
     "output_type": "execute_result"
    }
   ],
   "source": [
    "isbn.take(2)"
   ]
  },
  {
   "cell_type": "markdown",
   "id": "de037dc5",
   "metadata": {},
   "source": [
    "# "
   ]
  },
  {
   "cell_type": "code",
   "execution_count": null,
   "id": "b8aa5a02",
   "metadata": {},
   "outputs": [],
   "source": []
  }
 ],
 "metadata": {
  "kernelspec": {
   "display_name": "Python 3 (ipykernel)",
   "language": "python",
   "name": "python3"
  },
  "language_info": {
   "codemirror_mode": {
    "name": "ipython",
    "version": 3
   },
   "file_extension": ".py",
   "mimetype": "text/x-python",
   "name": "python",
   "nbconvert_exporter": "python",
   "pygments_lexer": "ipython3",
   "version": "3.10.6"
  }
 },
 "nbformat": 4,
 "nbformat_minor": 5
}
